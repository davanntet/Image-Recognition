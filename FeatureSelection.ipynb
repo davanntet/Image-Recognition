{
 "cells": [
  {
   "cell_type": "code",
   "execution_count": 13,
   "id": "initial_id",
   "metadata": {
    "collapsed": true,
    "ExecuteTime": {
     "end_time": "2023-10-08T13:14:51.827618300Z",
     "start_time": "2023-10-08T13:14:49.922368400Z"
    }
   },
   "outputs": [],
   "source": [
    "import numpy as np\n",
    "import pandas as pd\n",
    "import warnings\n",
    "from sklearn.feature_selection import SelectKBest\n",
    "warnings.filterwarnings('ignore')"
   ]
  },
  {
   "cell_type": "code",
   "execution_count": 8,
   "outputs": [
    {
     "data": {
      "text/plain": "           x1      y1  xVel1  yVel1  xA1  yA1     xS1     yS1   xC1   yC1  \\\n0    -1414.14 -535.22 -17.88  -7.23  0.0  0.0    0.00    0.00  0.00  0.00   \n1    -1406.36  698.39 -16.54  -6.95 -1.0  0.0 -944.07 -396.62  0.00  0.00   \n2    -1404.81  939.49  -5.44  -2.20  0.0  0.0    0.00    0.00  0.00  0.00   \n3    -1403.15 -350.53  -6.39   0.13  0.0  0.0    0.00    0.00  0.00  0.00   \n4    -1402.23  259.25  -6.22  14.16 -1.0  0.0  -20.01   60.79  0.00  0.00   \n...       ...     ...    ...    ...  ...  ...     ...     ...   ...   ...   \n5999  1398.12 -256.12   3.98  -6.42  0.0  0.0    0.00    0.00  0.00  0.00   \n6000  1399.16  954.83   4.54  -6.29  0.0  0.0    0.00    0.00 -0.13 -0.29   \n6001  1400.87 -235.20   9.33 -10.79  0.0  0.0    0.00    0.00  0.00  0.00   \n6002  1402.68   -5.93   6.63   6.09  0.0  0.0    0.00    0.00  0.00  0.00   \n6003  1403.72  133.09   9.46  14.33  0.0  1.0    0.00    0.00  0.00  0.00   \n\n      ...  yVel200  xA200  yA200  xS200  yS200  xC200  yC200  nAC200  nS200  \\\n0     ...   -16.85   0.00   0.00    0.0   0.00   0.00   0.00      29      0   \n1     ...   -12.61   0.00  -1.00    0.0   0.00   0.00   0.00      13      0   \n2     ...   -10.69   0.00   0.00    0.0   0.00   0.00   0.00      27      1   \n3     ...     0.63  -0.56   0.06    0.0   0.00   0.16  -0.28      30      0   \n4     ...    -9.77  -1.00   1.00    4.0  -0.04   0.00   0.00      18      3   \n...   ...      ...    ...    ...    ...    ...    ...    ...     ...    ...   \n5999  ...    -5.92  -0.13  -0.29    0.0   0.00  -0.12  -0.30       5      0   \n6000  ...    -4.87   0.00   0.00    0.0   0.00  -0.26  -0.18      12      0   \n6001  ...    -0.80   0.00   0.00    0.0   0.00   0.00   0.00       5      0   \n6002  ...     0.57   0.00   0.00    0.0   0.00   0.00   0.00       1      0   \n6003  ...     5.20   0.00   1.00   -0.1  -3.24   0.00   0.00      29      0   \n\n      Class  \n0         0  \n1         0  \n2         0  \n3         1  \n4         0  \n...     ...  \n5999      0  \n6000      0  \n6001      0  \n6002      0  \n6003      0  \n\n[6004 rows x 2401 columns]",
      "text/html": "<div>\n<style scoped>\n    .dataframe tbody tr th:only-of-type {\n        vertical-align: middle;\n    }\n\n    .dataframe tbody tr th {\n        vertical-align: top;\n    }\n\n    .dataframe thead th {\n        text-align: right;\n    }\n</style>\n<table border=\"1\" class=\"dataframe\">\n  <thead>\n    <tr style=\"text-align: right;\">\n      <th></th>\n      <th>x1</th>\n      <th>y1</th>\n      <th>xVel1</th>\n      <th>yVel1</th>\n      <th>xA1</th>\n      <th>yA1</th>\n      <th>xS1</th>\n      <th>yS1</th>\n      <th>xC1</th>\n      <th>yC1</th>\n      <th>...</th>\n      <th>yVel200</th>\n      <th>xA200</th>\n      <th>yA200</th>\n      <th>xS200</th>\n      <th>yS200</th>\n      <th>xC200</th>\n      <th>yC200</th>\n      <th>nAC200</th>\n      <th>nS200</th>\n      <th>Class</th>\n    </tr>\n  </thead>\n  <tbody>\n    <tr>\n      <th>0</th>\n      <td>-1414.14</td>\n      <td>-535.22</td>\n      <td>-17.88</td>\n      <td>-7.23</td>\n      <td>0.0</td>\n      <td>0.0</td>\n      <td>0.00</td>\n      <td>0.00</td>\n      <td>0.00</td>\n      <td>0.00</td>\n      <td>...</td>\n      <td>-16.85</td>\n      <td>0.00</td>\n      <td>0.00</td>\n      <td>0.0</td>\n      <td>0.00</td>\n      <td>0.00</td>\n      <td>0.00</td>\n      <td>29</td>\n      <td>0</td>\n      <td>0</td>\n    </tr>\n    <tr>\n      <th>1</th>\n      <td>-1406.36</td>\n      <td>698.39</td>\n      <td>-16.54</td>\n      <td>-6.95</td>\n      <td>-1.0</td>\n      <td>0.0</td>\n      <td>-944.07</td>\n      <td>-396.62</td>\n      <td>0.00</td>\n      <td>0.00</td>\n      <td>...</td>\n      <td>-12.61</td>\n      <td>0.00</td>\n      <td>-1.00</td>\n      <td>0.0</td>\n      <td>0.00</td>\n      <td>0.00</td>\n      <td>0.00</td>\n      <td>13</td>\n      <td>0</td>\n      <td>0</td>\n    </tr>\n    <tr>\n      <th>2</th>\n      <td>-1404.81</td>\n      <td>939.49</td>\n      <td>-5.44</td>\n      <td>-2.20</td>\n      <td>0.0</td>\n      <td>0.0</td>\n      <td>0.00</td>\n      <td>0.00</td>\n      <td>0.00</td>\n      <td>0.00</td>\n      <td>...</td>\n      <td>-10.69</td>\n      <td>0.00</td>\n      <td>0.00</td>\n      <td>0.0</td>\n      <td>0.00</td>\n      <td>0.00</td>\n      <td>0.00</td>\n      <td>27</td>\n      <td>1</td>\n      <td>0</td>\n    </tr>\n    <tr>\n      <th>3</th>\n      <td>-1403.15</td>\n      <td>-350.53</td>\n      <td>-6.39</td>\n      <td>0.13</td>\n      <td>0.0</td>\n      <td>0.0</td>\n      <td>0.00</td>\n      <td>0.00</td>\n      <td>0.00</td>\n      <td>0.00</td>\n      <td>...</td>\n      <td>0.63</td>\n      <td>-0.56</td>\n      <td>0.06</td>\n      <td>0.0</td>\n      <td>0.00</td>\n      <td>0.16</td>\n      <td>-0.28</td>\n      <td>30</td>\n      <td>0</td>\n      <td>1</td>\n    </tr>\n    <tr>\n      <th>4</th>\n      <td>-1402.23</td>\n      <td>259.25</td>\n      <td>-6.22</td>\n      <td>14.16</td>\n      <td>-1.0</td>\n      <td>0.0</td>\n      <td>-20.01</td>\n      <td>60.79</td>\n      <td>0.00</td>\n      <td>0.00</td>\n      <td>...</td>\n      <td>-9.77</td>\n      <td>-1.00</td>\n      <td>1.00</td>\n      <td>4.0</td>\n      <td>-0.04</td>\n      <td>0.00</td>\n      <td>0.00</td>\n      <td>18</td>\n      <td>3</td>\n      <td>0</td>\n    </tr>\n    <tr>\n      <th>...</th>\n      <td>...</td>\n      <td>...</td>\n      <td>...</td>\n      <td>...</td>\n      <td>...</td>\n      <td>...</td>\n      <td>...</td>\n      <td>...</td>\n      <td>...</td>\n      <td>...</td>\n      <td>...</td>\n      <td>...</td>\n      <td>...</td>\n      <td>...</td>\n      <td>...</td>\n      <td>...</td>\n      <td>...</td>\n      <td>...</td>\n      <td>...</td>\n      <td>...</td>\n      <td>...</td>\n    </tr>\n    <tr>\n      <th>5999</th>\n      <td>1398.12</td>\n      <td>-256.12</td>\n      <td>3.98</td>\n      <td>-6.42</td>\n      <td>0.0</td>\n      <td>0.0</td>\n      <td>0.00</td>\n      <td>0.00</td>\n      <td>0.00</td>\n      <td>0.00</td>\n      <td>...</td>\n      <td>-5.92</td>\n      <td>-0.13</td>\n      <td>-0.29</td>\n      <td>0.0</td>\n      <td>0.00</td>\n      <td>-0.12</td>\n      <td>-0.30</td>\n      <td>5</td>\n      <td>0</td>\n      <td>0</td>\n    </tr>\n    <tr>\n      <th>6000</th>\n      <td>1399.16</td>\n      <td>954.83</td>\n      <td>4.54</td>\n      <td>-6.29</td>\n      <td>0.0</td>\n      <td>0.0</td>\n      <td>0.00</td>\n      <td>0.00</td>\n      <td>-0.13</td>\n      <td>-0.29</td>\n      <td>...</td>\n      <td>-4.87</td>\n      <td>0.00</td>\n      <td>0.00</td>\n      <td>0.0</td>\n      <td>0.00</td>\n      <td>-0.26</td>\n      <td>-0.18</td>\n      <td>12</td>\n      <td>0</td>\n      <td>0</td>\n    </tr>\n    <tr>\n      <th>6001</th>\n      <td>1400.87</td>\n      <td>-235.20</td>\n      <td>9.33</td>\n      <td>-10.79</td>\n      <td>0.0</td>\n      <td>0.0</td>\n      <td>0.00</td>\n      <td>0.00</td>\n      <td>0.00</td>\n      <td>0.00</td>\n      <td>...</td>\n      <td>-0.80</td>\n      <td>0.00</td>\n      <td>0.00</td>\n      <td>0.0</td>\n      <td>0.00</td>\n      <td>0.00</td>\n      <td>0.00</td>\n      <td>5</td>\n      <td>0</td>\n      <td>0</td>\n    </tr>\n    <tr>\n      <th>6002</th>\n      <td>1402.68</td>\n      <td>-5.93</td>\n      <td>6.63</td>\n      <td>6.09</td>\n      <td>0.0</td>\n      <td>0.0</td>\n      <td>0.00</td>\n      <td>0.00</td>\n      <td>0.00</td>\n      <td>0.00</td>\n      <td>...</td>\n      <td>0.57</td>\n      <td>0.00</td>\n      <td>0.00</td>\n      <td>0.0</td>\n      <td>0.00</td>\n      <td>0.00</td>\n      <td>0.00</td>\n      <td>1</td>\n      <td>0</td>\n      <td>0</td>\n    </tr>\n    <tr>\n      <th>6003</th>\n      <td>1403.72</td>\n      <td>133.09</td>\n      <td>9.46</td>\n      <td>14.33</td>\n      <td>0.0</td>\n      <td>1.0</td>\n      <td>0.00</td>\n      <td>0.00</td>\n      <td>0.00</td>\n      <td>0.00</td>\n      <td>...</td>\n      <td>5.20</td>\n      <td>0.00</td>\n      <td>1.00</td>\n      <td>-0.1</td>\n      <td>-3.24</td>\n      <td>0.00</td>\n      <td>0.00</td>\n      <td>29</td>\n      <td>0</td>\n      <td>0</td>\n    </tr>\n  </tbody>\n</table>\n<p>6004 rows × 2401 columns</p>\n</div>"
     },
     "execution_count": 8,
     "metadata": {},
     "output_type": "execute_result"
    }
   ],
   "source": [
    "df = pd.read_csv('C:/Data/TestingData/aligned_reduced.csv')\n",
    "df"
   ],
   "metadata": {
    "collapsed": false,
    "ExecuteTime": {
     "end_time": "2023-10-08T13:12:11.502393400Z",
     "start_time": "2023-10-08T13:12:09.395013500Z"
    }
   },
   "id": "cfbafc9cd5564ae8"
  },
  {
   "cell_type": "code",
   "execution_count": 9,
   "outputs": [],
   "source": [
    "Y = np.asarray(df.Class)\n",
    "X = np.asarray(df.drop(columns=['Class'],axis=1))\n"
   ],
   "metadata": {
    "collapsed": false,
    "ExecuteTime": {
     "end_time": "2023-10-08T13:13:45.742089700Z",
     "start_time": "2023-10-08T13:13:45.643997400Z"
    }
   },
   "id": "85820e31da6b2624"
  },
  {
   "cell_type": "markdown",
   "source": [
    "# Filter Method"
   ],
   "metadata": {
    "collapsed": false
   },
   "id": "637cf72c2cb43ca7"
  },
  {
   "cell_type": "code",
   "execution_count": 20,
   "outputs": [
    {
     "data": {
      "text/plain": "array([[ -7.23,   0.  ,   0.  , ...,   0.  , -16.85,   0.  ],\n       [ -6.95,   0.  ,  -1.  , ...,  -1.  , -12.61,  -1.  ],\n       [ -2.2 ,   0.  ,   0.  , ...,   0.  , -10.69,   0.  ],\n       ...,\n       [-10.79,   0.  ,   0.  , ...,   0.  ,  -0.8 ,   0.  ],\n       [  6.09,   0.  ,   0.  , ...,   0.  ,   0.57,   0.  ],\n       [ 14.33,   1.  ,   1.  , ...,   1.  ,   5.2 ,   1.  ]])"
     },
     "execution_count": 20,
     "metadata": {},
     "output_type": "execute_result"
    }
   ],
   "source": [
    "Kbest = SelectKBest(k=500)\n",
    "T = Kbest.fit(X,Y)\n",
    "X_new = T.transform(X)\n",
    "X_new"
   ],
   "metadata": {
    "collapsed": false,
    "ExecuteTime": {
     "end_time": "2023-10-08T13:16:26.231866200Z",
     "start_time": "2023-10-08T13:16:25.867384800Z"
    }
   },
   "id": "d90e54cc55961503"
  },
  {
   "cell_type": "markdown",
   "source": [
    "# Wrapper Method"
   ],
   "metadata": {
    "collapsed": false
   },
   "id": "1e14d02454dc0147"
  },
  {
   "cell_type": "code",
   "execution_count": 30,
   "outputs": [],
   "source": [
    "from sklearn.linear_model import LogisticRegression\n",
    "from sklearn.svm import LinearSVC\n",
    "from sklearn.feature_selection import RFE\n",
    "# from sklearn.feature_selection import RFECV\n",
    "import pickle as pkl"
   ],
   "metadata": {
    "collapsed": false,
    "ExecuteTime": {
     "end_time": "2023-10-08T13:51:25.998489500Z",
     "start_time": "2023-10-08T13:51:25.988483Z"
    }
   },
   "id": "55ccd82b6bd8b8e0"
  },
  {
   "cell_type": "code",
   "execution_count": 26,
   "outputs": [],
   "source": [
    "M = LogisticRegression()\n",
    "# M = LogisticRegressionCV()\n",
    "T = RFE(M,n_features_to_select=200)\n",
    "# T = RFECV(M,cv=5)\n",
    "T.fit(X_new,Y)\n",
    "pkl.dump(T,open('T.p','wb'))"
   ],
   "metadata": {
    "collapsed": false,
    "ExecuteTime": {
     "end_time": "2023-10-08T13:34:02.071804900Z",
     "start_time": "2023-10-08T13:33:05.308494300Z"
    }
   },
   "id": "cf18b8c6a82f60d5"
  },
  {
   "cell_type": "code",
   "execution_count": 27,
   "outputs": [],
   "source": [
    "T = pkl.load(open('T.p','rb'))"
   ],
   "metadata": {
    "collapsed": false,
    "ExecuteTime": {
     "end_time": "2023-10-08T13:49:47.023073100Z",
     "start_time": "2023-10-08T13:49:47.011253Z"
    }
   },
   "id": "a718666fb1509c20"
  },
  {
   "cell_type": "code",
   "execution_count": 33,
   "outputs": [
    {
     "name": "stdout",
     "output_type": "stream",
     "text": [
      "RFE(estimator=LogisticRegression(), n_features_to_select=200)\n"
     ]
    }
   ],
   "source": [
    "x_200 = T.transform(X_new)\n",
    "print(T)"
   ],
   "metadata": {
    "collapsed": false,
    "ExecuteTime": {
     "end_time": "2023-10-08T14:14:49.018703Z",
     "start_time": "2023-10-08T14:14:48.998899300Z"
    }
   },
   "id": "ad9f8f6108893c8e"
  },
  {
   "cell_type": "markdown",
   "source": [],
   "metadata": {
    "collapsed": false
   },
   "id": "a671a2513e209d92"
  },
  {
   "cell_type": "markdown",
   "source": [
    "# Embedded Method"
   ],
   "metadata": {
    "collapsed": false
   },
   "id": "f7d33fc3816eaa4b"
  },
  {
   "cell_type": "code",
   "execution_count": 35,
   "outputs": [],
   "source": [
    "from sklearn.feature_selection import SelectFromModel\n",
    "from sklearn.svm import LinearSVC"
   ],
   "metadata": {
    "collapsed": false,
    "ExecuteTime": {
     "end_time": "2023-10-08T14:27:24.334696200Z",
     "start_time": "2023-10-08T14:27:24.331175600Z"
    }
   },
   "id": "8f2674d931499ebb"
  },
  {
   "cell_type": "code",
   "execution_count": 36,
   "outputs": [
    {
     "data": {
      "text/plain": "LinearSVC(C=0.01, dual=False, penalty='l1')",
      "text/html": "<style>#sk-container-id-4 {color: black;}#sk-container-id-4 pre{padding: 0;}#sk-container-id-4 div.sk-toggleable {background-color: white;}#sk-container-id-4 label.sk-toggleable__label {cursor: pointer;display: block;width: 100%;margin-bottom: 0;padding: 0.3em;box-sizing: border-box;text-align: center;}#sk-container-id-4 label.sk-toggleable__label-arrow:before {content: \"▸\";float: left;margin-right: 0.25em;color: #696969;}#sk-container-id-4 label.sk-toggleable__label-arrow:hover:before {color: black;}#sk-container-id-4 div.sk-estimator:hover label.sk-toggleable__label-arrow:before {color: black;}#sk-container-id-4 div.sk-toggleable__content {max-height: 0;max-width: 0;overflow: hidden;text-align: left;background-color: #f0f8ff;}#sk-container-id-4 div.sk-toggleable__content pre {margin: 0.2em;color: black;border-radius: 0.25em;background-color: #f0f8ff;}#sk-container-id-4 input.sk-toggleable__control:checked~div.sk-toggleable__content {max-height: 200px;max-width: 100%;overflow: auto;}#sk-container-id-4 input.sk-toggleable__control:checked~label.sk-toggleable__label-arrow:before {content: \"▾\";}#sk-container-id-4 div.sk-estimator input.sk-toggleable__control:checked~label.sk-toggleable__label {background-color: #d4ebff;}#sk-container-id-4 div.sk-label input.sk-toggleable__control:checked~label.sk-toggleable__label {background-color: #d4ebff;}#sk-container-id-4 input.sk-hidden--visually {border: 0;clip: rect(1px 1px 1px 1px);clip: rect(1px, 1px, 1px, 1px);height: 1px;margin: -1px;overflow: hidden;padding: 0;position: absolute;width: 1px;}#sk-container-id-4 div.sk-estimator {font-family: monospace;background-color: #f0f8ff;border: 1px dotted black;border-radius: 0.25em;box-sizing: border-box;margin-bottom: 0.5em;}#sk-container-id-4 div.sk-estimator:hover {background-color: #d4ebff;}#sk-container-id-4 div.sk-parallel-item::after {content: \"\";width: 100%;border-bottom: 1px solid gray;flex-grow: 1;}#sk-container-id-4 div.sk-label:hover label.sk-toggleable__label {background-color: #d4ebff;}#sk-container-id-4 div.sk-serial::before {content: \"\";position: absolute;border-left: 1px solid gray;box-sizing: border-box;top: 0;bottom: 0;left: 50%;z-index: 0;}#sk-container-id-4 div.sk-serial {display: flex;flex-direction: column;align-items: center;background-color: white;padding-right: 0.2em;padding-left: 0.2em;position: relative;}#sk-container-id-4 div.sk-item {position: relative;z-index: 1;}#sk-container-id-4 div.sk-parallel {display: flex;align-items: stretch;justify-content: center;background-color: white;position: relative;}#sk-container-id-4 div.sk-item::before, #sk-container-id-4 div.sk-parallel-item::before {content: \"\";position: absolute;border-left: 1px solid gray;box-sizing: border-box;top: 0;bottom: 0;left: 50%;z-index: -1;}#sk-container-id-4 div.sk-parallel-item {display: flex;flex-direction: column;z-index: 1;position: relative;background-color: white;}#sk-container-id-4 div.sk-parallel-item:first-child::after {align-self: flex-end;width: 50%;}#sk-container-id-4 div.sk-parallel-item:last-child::after {align-self: flex-start;width: 50%;}#sk-container-id-4 div.sk-parallel-item:only-child::after {width: 0;}#sk-container-id-4 div.sk-dashed-wrapped {border: 1px dashed gray;margin: 0 0.4em 0.5em 0.4em;box-sizing: border-box;padding-bottom: 0.4em;background-color: white;}#sk-container-id-4 div.sk-label label {font-family: monospace;font-weight: bold;display: inline-block;line-height: 1.2em;}#sk-container-id-4 div.sk-label-container {text-align: center;}#sk-container-id-4 div.sk-container {/* jupyter's `normalize.less` sets `[hidden] { display: none; }` but bootstrap.min.css set `[hidden] { display: none !important; }` so we also need the `!important` here to be able to override the default hidden behavior on the sphinx rendered scikit-learn.org. See: https://github.com/scikit-learn/scikit-learn/issues/21755 */display: inline-block !important;position: relative;}#sk-container-id-4 div.sk-text-repr-fallback {display: none;}</style><div id=\"sk-container-id-4\" class=\"sk-top-container\"><div class=\"sk-text-repr-fallback\"><pre>LinearSVC(C=0.01, dual=False, penalty=&#x27;l1&#x27;)</pre><b>In a Jupyter environment, please rerun this cell to show the HTML representation or trust the notebook. <br />On GitHub, the HTML representation is unable to render, please try loading this page with nbviewer.org.</b></div><div class=\"sk-container\" hidden><div class=\"sk-item\"><div class=\"sk-estimator sk-toggleable\"><input class=\"sk-toggleable__control sk-hidden--visually\" id=\"sk-estimator-id-8\" type=\"checkbox\" checked><label for=\"sk-estimator-id-8\" class=\"sk-toggleable__label sk-toggleable__label-arrow\">LinearSVC</label><div class=\"sk-toggleable__content\"><pre>LinearSVC(C=0.01, dual=False, penalty=&#x27;l1&#x27;)</pre></div></div></div></div></div>"
     },
     "execution_count": 36,
     "metadata": {},
     "output_type": "execute_result"
    }
   ],
   "source": [
    "M = LinearSVC(C=0.01,penalty='l1',dual=False)\n",
    "M.fit(X,Y)"
   ],
   "metadata": {
    "collapsed": false,
    "ExecuteTime": {
     "end_time": "2023-10-08T14:31:12.368209400Z",
     "start_time": "2023-10-08T14:31:05.469065700Z"
    }
   },
   "id": "8cd8ce4b1b83567e"
  },
  {
   "cell_type": "code",
   "execution_count": 39,
   "outputs": [
    {
     "data": {
      "text/plain": "array([[-1414.14,  -535.22,  -589.94, ...,  -473.61,   687.57,  -810.85],\n       [-1406.36,   698.39,  -885.04, ...,   213.81,   571.48,   605.72],\n       [-1404.81,   939.49,  -694.49, ...,   808.88,  1317.73,   241.66],\n       ...,\n       [ 1400.87,  -235.2 , -1170.04, ...,   365.4 ,   542.03,  -749.83],\n       [ 1402.68,    -5.93,   926.42, ...,  -657.16,  1034.42,   -81.59],\n       [ 1403.72,   133.09,  -695.11, ...,  -802.1 ,  1187.52,   259.33]])"
     },
     "execution_count": 39,
     "metadata": {},
     "output_type": "execute_result"
    }
   ],
   "source": [
    "T = SelectFromModel(M,prefit=True)\n",
    "T.transform(X)"
   ],
   "metadata": {
    "collapsed": false,
    "ExecuteTime": {
     "end_time": "2023-10-08T14:31:43.691835500Z",
     "start_time": "2023-10-08T14:31:43.649099200Z"
    }
   },
   "id": "ab61f967f69503ac"
  },
  {
   "cell_type": "markdown",
   "source": [
    "# Correlation Filter"
   ],
   "metadata": {
    "collapsed": false
   },
   "id": "284ef3c18a290ff5"
  },
  {
   "cell_type": "code",
   "execution_count": 52,
   "outputs": [],
   "source": [
    "c = np.asarray([])\n",
    "for i in range(X.shape[1]):\n",
    "    # c = np.append(c,np.corrcoef(X[:,i],Y)[0,1])\n",
    "    fi = X[:,i]\n",
    "    c = np.append(c,fi.dot(Y)/((Y.dot(Y)*fi.dot(fi))**0.5))"
   ],
   "metadata": {
    "collapsed": false,
    "ExecuteTime": {
     "end_time": "2023-10-08T14:52:54.671753800Z",
     "start_time": "2023-10-08T14:52:54.581807800Z"
    }
   },
   "id": "1f760b28e66d86fe"
  },
  {
   "cell_type": "code",
   "execution_count": 58,
   "outputs": [
    {
     "data": {
      "text/plain": "Index(['yA115', 'yA102', 'yA41', 'yA59', 'yA179', 'yA155', 'yA94', 'yA6',\n       'yA197', 'yA47'],\n      dtype='object')"
     },
     "execution_count": 58,
     "metadata": {},
     "output_type": "execute_result"
    }
   ],
   "source": [
    "idx = np.argsort(c)[::-1]\n",
    "col = df.columns[np.abs(idx)][:10]\n",
    "col"
   ],
   "metadata": {
    "collapsed": false,
    "ExecuteTime": {
     "end_time": "2023-10-08T14:55:11.564207100Z",
     "start_time": "2023-10-08T14:55:11.555198500Z"
    }
   },
   "id": "a5143bd58d886349"
  },
  {
   "cell_type": "code",
   "execution_count": 63,
   "outputs": [
    {
     "data": {
      "text/plain": "Index(['x198', 'x185', 'x84', 'x115', 'x158', 'x150', 'x169', 'x6', 'x162',\n       'x96'],\n      dtype='object')"
     },
     "execution_count": 63,
     "metadata": {},
     "output_type": "execute_result"
    }
   ],
   "source": [
    "# we can use one lin\n",
    "idx = np.argsort(X.T.dot(Y))[::-1][:10]\n",
    "col = df.columns[idx]\n",
    "col\n"
   ],
   "metadata": {
    "collapsed": false,
    "ExecuteTime": {
     "end_time": "2023-10-08T14:56:43.442046900Z",
     "start_time": "2023-10-08T14:56:43.430456500Z"
    }
   },
   "id": "efa4e2982b0492bd"
  },
  {
   "cell_type": "code",
   "execution_count": 65,
   "outputs": [
    {
     "data": {
      "text/plain": "2400"
     },
     "execution_count": 65,
     "metadata": {},
     "output_type": "execute_result"
    }
   ],
   "source": [
    "D= X.T.dot(Y)\n",
    "len(D)"
   ],
   "metadata": {
    "collapsed": false,
    "ExecuteTime": {
     "end_time": "2023-10-08T14:59:07.750744900Z",
     "start_time": "2023-10-08T14:59:07.739066400Z"
    }
   },
   "id": "1e63c00bb466ec3d"
  }
 ],
 "metadata": {
  "kernelspec": {
   "display_name": "Python 3",
   "language": "python",
   "name": "python3"
  },
  "language_info": {
   "codemirror_mode": {
    "name": "ipython",
    "version": 2
   },
   "file_extension": ".py",
   "mimetype": "text/x-python",
   "name": "python",
   "nbconvert_exporter": "python",
   "pygments_lexer": "ipython2",
   "version": "2.7.6"
  }
 },
 "nbformat": 4,
 "nbformat_minor": 5
}
