{
 "cells": [
  {
   "cell_type": "code",
   "execution_count": 74,
   "id": "initial_id",
   "metadata": {
    "collapsed": true,
    "ExecuteTime": {
     "end_time": "2023-11-21T14:41:22.876232900Z",
     "start_time": "2023-11-21T14:41:22.862254700Z"
    }
   },
   "outputs": [],
   "source": [
    "import glob\n",
    "from glob import glob\n",
    "from sklearn.model_selection import train_test_split\n",
    "import numpy as np\n",
    "from sklearn.svm import LinearSVC\n",
    "from skimage.feature import hog\n",
    "from skimage import exposure\n",
    "from sklearn.feature_selection import RFECV\n",
    "from sklearn.linear_model import LogisticRegression\n",
    "import cv2\n",
    "import os\n",
    "import matplotlib.pyplot as plt"
   ]
  },
  {
   "cell_type": "code",
   "execution_count": 75,
   "outputs": [],
   "source": [
    "path = 'c:/Data/data/animals/animals'"
   ],
   "metadata": {
    "collapsed": false,
    "ExecuteTime": {
     "end_time": "2023-11-21T14:41:25.517297400Z",
     "start_time": "2023-11-21T14:41:25.512110900Z"
    }
   },
   "id": "7a9bc7c80c1587dc"
  },
  {
   "cell_type": "code",
   "execution_count": 76,
   "outputs": [],
   "source": [
    "def get_data_from_image(file_path):\n",
    "    img = cv2.imread(file_path)\n",
    "    _img = cv2.cvtColor(img, cv2.COLOR_RGB2GRAY)\n",
    "    _img = cv2.resize(_img, (50*2,37*2))\n",
    "    fd,hog_img = hog(_img, orientations=8, pixels_per_cell=(16,16), cells_per_block=(1,1), visualize=True)\n",
    "    hog_img_rescale = exposure.rescale_intensity(hog_img, in_range=(0,10))\n",
    "    return fd.flatten()"
   ],
   "metadata": {
    "collapsed": false,
    "ExecuteTime": {
     "end_time": "2023-11-21T14:41:27.479850300Z",
     "start_time": "2023-11-21T14:41:27.474290800Z"
    }
   },
   "id": "5c4d0bc1e919afc3"
  },
  {
   "cell_type": "code",
   "execution_count": 77,
   "outputs": [],
   "source": [
    "def get_data_from_folder(folder_path,current_folder):\n",
    "    files = glob(folder_path + '/' + current_folder + '/*.jpg')\n",
    "    data = []\n",
    "    targ = []\n",
    "    for file in files:\n",
    "        data.append(get_data_from_image(file))\n",
    "        targ.append(current_folder)\n",
    "    return data,targ"
   ],
   "metadata": {
    "collapsed": false,
    "ExecuteTime": {
     "end_time": "2023-11-21T14:41:29.427446500Z",
     "start_time": "2023-11-21T14:41:29.421303500Z"
    }
   },
   "id": "284d002e100164d1"
  },
  {
   "cell_type": "code",
   "execution_count": 79,
   "outputs": [],
   "source": [
    "def get_data_from_path(path_data):\n",
    "    folder_path = os.listdir(path=path_data)\n",
    "    feature = []\n",
    "    target = []\n",
    "    for folder in folder_path:\n",
    "        feat,targ = get_data_from_folder(path_data,folder)\n",
    "        feature.extend(feat)\n",
    "        target.extend(targ)\n",
    "    return feature,target"
   ],
   "metadata": {
    "collapsed": false,
    "ExecuteTime": {
     "end_time": "2023-11-21T14:41:41.387122300Z",
     "start_time": "2023-11-21T14:41:41.378853400Z"
    }
   },
   "id": "283e32255df3a062"
  },
  {
   "cell_type": "code",
   "execution_count": 80,
   "outputs": [],
   "source": [
    "feature,target = get_data_from_path(path)"
   ],
   "metadata": {
    "collapsed": false,
    "ExecuteTime": {
     "end_time": "2023-11-21T14:43:15.880634200Z",
     "start_time": "2023-11-21T14:41:44.186404600Z"
    }
   },
   "id": "3b6dc720ca5d449"
  },
  {
   "cell_type": "code",
   "execution_count": 81,
   "outputs": [],
   "source": [
    "feature = np.array(feature)"
   ],
   "metadata": {
    "collapsed": false,
    "ExecuteTime": {
     "end_time": "2023-11-21T14:43:18.616416700Z",
     "start_time": "2023-11-21T14:43:18.598017100Z"
    }
   },
   "id": "6bec51cb752dc4d8"
  },
  {
   "cell_type": "code",
   "execution_count": 82,
   "outputs": [],
   "source": [
    "target = np.array(target)\n",
    "target = target.flatten()"
   ],
   "metadata": {
    "collapsed": false,
    "ExecuteTime": {
     "end_time": "2023-11-21T14:43:23.818382300Z",
     "start_time": "2023-11-21T14:43:23.807340300Z"
    }
   },
   "id": "57dfe81d119bd6cc"
  },
  {
   "cell_type": "code",
   "execution_count": 21,
   "outputs": [
    {
     "data": {
      "text/plain": "array(['antelope', 'badger', 'bat', 'bear', 'bee'], dtype='<U8')"
     },
     "execution_count": 21,
     "metadata": {},
     "output_type": "execute_result"
    }
   ],
   "source": [],
   "metadata": {
    "collapsed": false,
    "ExecuteTime": {
     "end_time": "2023-11-21T14:26:57.310355800Z",
     "start_time": "2023-11-21T14:26:57.291721500Z"
    }
   },
   "id": "ae61432bb2c7ea6f"
  },
  {
   "cell_type": "code",
   "execution_count": 83,
   "outputs": [],
   "source": [
    "import pickle\n",
    "pickle.dump(feature,open('feature.pkl','wb'))\n",
    "pickle.dump(target,open('target.pkl','wb'))"
   ],
   "metadata": {
    "collapsed": false,
    "ExecuteTime": {
     "end_time": "2023-11-21T14:43:27.238252300Z",
     "start_time": "2023-11-21T14:43:27.225009Z"
    }
   },
   "id": "4dffdf7bd7bf1163"
  },
  {
   "cell_type": "code",
   "execution_count": 5,
   "outputs": [],
   "source": [
    "import pickle\n",
    "feature = pickle.load(open('feature.pkl','rb'))\n",
    "target = pickle.load(open('target.pkl','rb'))"
   ],
   "metadata": {
    "collapsed": false,
    "ExecuteTime": {
     "end_time": "2023-11-19T04:04:15.932983500Z",
     "start_time": "2023-11-19T04:02:17.383824900Z"
    }
   },
   "id": "1a483b9b1a2de7bf"
  },
  {
   "cell_type": "code",
   "execution_count": 11,
   "outputs": [],
   "source": [
    "feature = np.array(feature)\n",
    "target = np.array(target)"
   ],
   "metadata": {
    "collapsed": false,
    "ExecuteTime": {
     "end_time": "2023-11-19T04:42:21.119481400Z",
     "start_time": "2023-11-19T04:42:21.106882600Z"
    }
   },
   "id": "1a315d2f1eef91c0"
  },
  {
   "cell_type": "code",
   "execution_count": 84,
   "outputs": [],
   "source": [
    "liner_regression = LinearSVC()\n",
    "rfe = RFECV(estimator=liner_regression, step=1, cv=5, scoring='accuracy',n_jobs=-1)"
   ],
   "metadata": {
    "collapsed": false,
    "ExecuteTime": {
     "end_time": "2023-11-21T14:43:33.055088300Z",
     "start_time": "2023-11-21T14:43:33.049062800Z"
    }
   },
   "id": "135d8f422e370576"
  },
  {
   "cell_type": "code",
   "execution_count": null,
   "outputs": [],
   "source": [
    "rfe.fit_transform(feature,target)"
   ],
   "metadata": {
    "collapsed": false,
    "is_executing": true,
    "ExecuteTime": {
     "start_time": "2023-11-21T14:43:37.062113100Z"
    }
   },
   "id": "9ca008e895ce21e8"
  },
  {
   "cell_type": "code",
   "execution_count": null,
   "outputs": [],
   "source": [
    "import pickle\n",
    "pickle.dump(rfe,open('model.pkl','wb'))   "
   ],
   "metadata": {
    "collapsed": false,
    "is_executing": true,
    "ExecuteTime": {
     "start_time": "2023-11-19T04:30:43.141215600Z"
    }
   },
   "id": "497cfb8500178b0"
  },
  {
   "cell_type": "code",
   "execution_count": null,
   "outputs": [],
   "source": [
    "rfe = pickle.load(open('model.pkl','rb'))"
   ],
   "metadata": {
    "collapsed": false,
    "is_executing": true
   },
   "id": "239fdc3cf9887e2d"
  },
  {
   "cell_type": "code",
   "execution_count": 72,
   "outputs": [],
   "source": [
    "cat_files = glob('c:/Data/data/animals/animals/badger/*.jpg')"
   ],
   "metadata": {
    "collapsed": false,
    "ExecuteTime": {
     "end_time": "2023-11-21T14:40:52.296939Z",
     "start_time": "2023-11-21T14:40:52.286229400Z"
    }
   },
   "id": "8e9c1134e1b5c0a9"
  },
  {
   "cell_type": "code",
   "execution_count": 130,
   "outputs": [],
   "source": [
    "img = plt.imread(r\"C:\\Data\\data\\animals\\test\\dog\\bat.jpeg\")"
   ],
   "metadata": {
    "collapsed": false,
    "ExecuteTime": {
     "end_time": "2023-11-18T13:34:16.738717600Z",
     "start_time": "2023-11-18T13:34:16.726229700Z"
    }
   },
   "id": "cc0b46d8edbafd17"
  },
  {
   "cell_type": "code",
   "execution_count": 35,
   "outputs": [
    {
     "data": {
      "text/plain": "array(['bat'], dtype='<U8')"
     },
     "execution_count": 35,
     "metadata": {},
     "output_type": "execute_result"
    }
   ],
   "source": [
    "rfe.predict([get_data_from_image(cat_files[9])])"
   ],
   "metadata": {
    "collapsed": false,
    "ExecuteTime": {
     "end_time": "2023-11-21T14:32:16.660541900Z",
     "start_time": "2023-11-21T14:32:16.634982500Z"
    }
   },
   "id": "acf70e4fff484278"
  },
  {
   "cell_type": "code",
   "execution_count": null,
   "outputs": [],
   "source": [],
   "metadata": {
    "collapsed": false
   },
   "id": "fa665b6c5659612"
  },
  {
   "cell_type": "code",
   "execution_count": null,
   "outputs": [],
   "source": [
    "sum = int(0)\n",
    "for i in cat_files: \n",
    "    if rfe.predict([get_data_from_image(i)]) == 'badger':\n",
    "        sum += 1\n",
    "print(sum/len(cat_files))"
   ],
   "metadata": {
    "collapsed": false,
    "is_executing": true
   },
   "id": "16e0bc5bbf477808"
  }
 ],
 "metadata": {
  "kernelspec": {
   "display_name": "Python 3",
   "language": "python",
   "name": "python3"
  },
  "language_info": {
   "codemirror_mode": {
    "name": "ipython",
    "version": 2
   },
   "file_extension": ".py",
   "mimetype": "text/x-python",
   "name": "python",
   "nbconvert_exporter": "python",
   "pygments_lexer": "ipython2",
   "version": "2.7.6"
  }
 },
 "nbformat": 4,
 "nbformat_minor": 5
}
